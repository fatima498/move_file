{
 "cells": [
  {
   "cell_type": "markdown",
   "id": "88472dad",
   "metadata": {},
   "source": [
    "file transfer"
   ]
  },
  {
   "cell_type": "code",
   "execution_count": null,
   "id": "27784770",
   "metadata": {
    "vscode": {
     "languageId": "plaintext"
    }
   },
   "outputs": [],
   "source": [
    "importing files"
   ]
  }
 ],
 "metadata": {
  "language_info": {
   "name": "python"
  }
 },
 "nbformat": 4,
 "nbformat_minor": 5
}
